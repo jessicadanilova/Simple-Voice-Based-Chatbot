{
 "cells": [
  {
   "cell_type": "code",
   "execution_count": 9,
   "metadata": {},
   "outputs": [
    {
     "name": "stdout",
     "output_type": "stream",
     "text": [
      "Requirement already satisfied: selenium in c:\\users\\jessi\\appdata\\local\\programs\\python\\python39\\lib\\site-packages (4.18.1)\n",
      "Requirement already satisfied: urllib3<3,>=1.26 in c:\\users\\jessi\\appdata\\local\\programs\\python\\python39\\lib\\site-packages (from urllib3[socks]<3,>=1.26->selenium) (2.2.1)\n",
      "Requirement already satisfied: trio~=0.17 in c:\\users\\jessi\\appdata\\local\\programs\\python\\python39\\lib\\site-packages (from selenium) (0.24.0)\n",
      "Requirement already satisfied: trio-websocket~=0.9 in c:\\users\\jessi\\appdata\\local\\programs\\python\\python39\\lib\\site-packages (from selenium) (0.11.1)\n",
      "Requirement already satisfied: certifi>=2021.10.8 in c:\\users\\jessi\\appdata\\local\\programs\\python\\python39\\lib\\site-packages (from selenium) (2024.2.2)\n",
      "Requirement already satisfied: typing_extensions>=4.9.0 in c:\\users\\jessi\\appdata\\local\\programs\\python\\python39\\lib\\site-packages (from selenium) (4.9.0)\n",
      "Requirement already satisfied: attrs>=20.1.0 in c:\\users\\jessi\\appdata\\local\\programs\\python\\python39\\lib\\site-packages (from trio~=0.17->selenium) (23.2.0)\n",
      "Requirement already satisfied: sortedcontainers in c:\\users\\jessi\\appdata\\local\\programs\\python\\python39\\lib\\site-packages (from trio~=0.17->selenium) (2.4.0)\n",
      "Requirement already satisfied: idna in c:\\users\\jessi\\appdata\\local\\programs\\python\\python39\\lib\\site-packages (from trio~=0.17->selenium) (3.6)\n",
      "Requirement already satisfied: outcome in c:\\users\\jessi\\appdata\\local\\programs\\python\\python39\\lib\\site-packages (from trio~=0.17->selenium) (1.3.0.post0)\n",
      "Requirement already satisfied: sniffio>=1.3.0 in c:\\users\\jessi\\appdata\\local\\programs\\python\\python39\\lib\\site-packages (from trio~=0.17->selenium) (1.3.1)\n",
      "Requirement already satisfied: cffi>=1.14 in c:\\users\\jessi\\appdata\\local\\programs\\python\\python39\\lib\\site-packages (from trio~=0.17->selenium) (1.16.0)\n",
      "Requirement already satisfied: exceptiongroup in c:\\users\\jessi\\appdata\\local\\programs\\python\\python39\\lib\\site-packages (from trio~=0.17->selenium) (1.2.0)\n",
      "Requirement already satisfied: wsproto>=0.14 in c:\\users\\jessi\\appdata\\local\\programs\\python\\python39\\lib\\site-packages (from trio-websocket~=0.9->selenium) (1.2.0)\n",
      "Requirement already satisfied: pysocks!=1.5.7,<2.0,>=1.5.6 in c:\\users\\jessi\\appdata\\local\\programs\\python\\python39\\lib\\site-packages (from urllib3[socks]<3,>=1.26->selenium) (1.7.1)\n",
      "Requirement already satisfied: pycparser in c:\\users\\jessi\\appdata\\local\\programs\\python\\python39\\lib\\site-packages (from cffi>=1.14->trio~=0.17->selenium) (2.21)\n",
      "Requirement already satisfied: h11<1,>=0.9.0 in c:\\users\\jessi\\appdata\\local\\programs\\python\\python39\\lib\\site-packages (from wsproto>=0.14->trio-websocket~=0.9->selenium) (0.14.0)\n",
      "Note: you may need to restart the kernel to use updated packages.\n"
     ]
    },
    {
     "name": "stderr",
     "output_type": "stream",
     "text": [
      "\n",
      "[notice] A new release of pip is available: 23.3.2 -> 24.0\n",
      "[notice] To update, run: python.exe -m pip install --upgrade pip\n"
     ]
    }
   ],
   "source": [
    "%pip install selenium"
   ]
  },
  {
   "cell_type": "code",
   "execution_count": 10,
   "metadata": {},
   "outputs": [
    {
     "name": "stdout",
     "output_type": "stream",
     "text": [
      "Note: you may need to restart the kernel to use updated packages.\n"
     ]
    },
    {
     "name": "stderr",
     "output_type": "stream",
     "text": [
      "ERROR: Could not find a version that satisfies the requirement distutils (from versions: none)\n",
      "ERROR: No matching distribution found for distutils\n",
      "\n",
      "[notice] A new release of pip is available: 23.3.2 -> 24.0\n",
      "[notice] To update, run: python.exe -m pip install --upgrade pip\n"
     ]
    }
   ],
   "source": [
    "%pip install distutils"
   ]
  },
  {
   "cell_type": "code",
   "execution_count": 11,
   "metadata": {},
   "outputs": [
    {
     "name": "stdout",
     "output_type": "stream",
     "text": [
      "Requirement already satisfied: SpeechRecognition in c:\\users\\jessi\\appdata\\local\\programs\\python\\python39\\lib\\site-packages (3.10.1)\n",
      "Requirement already satisfied: requests>=2.26.0 in c:\\users\\jessi\\appdata\\local\\programs\\python\\python39\\lib\\site-packages (from SpeechRecognition) (2.31.0)\n",
      "Requirement already satisfied: typing-extensions in c:\\users\\jessi\\appdata\\local\\programs\\python\\python39\\lib\\site-packages (from SpeechRecognition) (4.9.0)\n",
      "Requirement already satisfied: charset-normalizer<4,>=2 in c:\\users\\jessi\\appdata\\local\\programs\\python\\python39\\lib\\site-packages (from requests>=2.26.0->SpeechRecognition) (3.3.2)\n",
      "Requirement already satisfied: idna<4,>=2.5 in c:\\users\\jessi\\appdata\\local\\programs\\python\\python39\\lib\\site-packages (from requests>=2.26.0->SpeechRecognition) (3.6)\n",
      "Requirement already satisfied: urllib3<3,>=1.21.1 in c:\\users\\jessi\\appdata\\local\\programs\\python\\python39\\lib\\site-packages (from requests>=2.26.0->SpeechRecognition) (2.2.1)\n",
      "Requirement already satisfied: certifi>=2017.4.17 in c:\\users\\jessi\\appdata\\local\\programs\\python\\python39\\lib\\site-packages (from requests>=2.26.0->SpeechRecognition) (2024.2.2)\n",
      "Note: you may need to restart the kernel to use updated packages.\n"
     ]
    },
    {
     "name": "stderr",
     "output_type": "stream",
     "text": [
      "\n",
      "[notice] A new release of pip is available: 23.3.2 -> 24.0\n",
      "[notice] To update, run: python.exe -m pip install --upgrade pip\n"
     ]
    }
   ],
   "source": [
    "%pip install SpeechRecognition"
   ]
  },
  {
   "cell_type": "code",
   "execution_count": 2,
   "metadata": {},
   "outputs": [],
   "source": [
    "import json\n",
    "import speech_recognition as sr\n",
    "from selenium import webdriver\n",
    "import pyttsx3\n",
    "\n",
    "def assistant_speaks(output):\n",
    "    engine = pyttsx3.init()\n",
    "    engine.say(output)\n",
    "    engine.runAndWait()\n",
    "\n",
    "def get_audio():\n",
    "    rObject = sr.Recognizer()\n",
    "    audio = ''\n",
    "\n",
    "    with sr.Microphone() as source:\n",
    "        print(\"Speak...\")\n",
    "        audio = rObject.listen(source, phrase_time_limit=5)\n",
    "    print(\"Stop.\")\n",
    "\n",
    "    try:\n",
    "        text = rObject.recognize_google(audio, language='en-US')\n",
    "        print(\"You:\", text)\n",
    "        return text\n",
    "    except:\n",
    "        assistant_speaks(\"Could not understand your audio, please try again!\")\n",
    "        return 0\n",
    "\n",
    "def load_intents(file_path):\n",
    "    with open(file_path, 'r') as file:\n",
    "        intents = json.load(file)\n",
    "    return intents\n",
    "\n",
    "def process_text(input, intents):\n",
    "    try:\n",
    "        for intent in intents['intents']:\n",
    "            if any(word in input.lower() for word in intent['keywords']):\n",
    "                if intent['action'] == 'search':\n",
    "                    search_web(input)\n",
    "                elif intent['action'] == 'define':\n",
    "                    assistant_speaks(intent['response'])\n",
    "                elif intent['action'] == 'calculate':\n",
    "                    query = input.lower().split('calculate')[1].strip()\n",
    "                    try:\n",
    "                        result = str(eval(query))\n",
    "                        assistant_speaks(\"The answer is \" + result)\n",
    "                    except Exception as e:\n",
    "                        assistant_speaks(\"Sorry, I could not calculate that.\")\n",
    "                return\n",
    "\n",
    "        assistant_speaks(\"I don't understand, I can search the web for you, Do you want to continue?\")\n",
    "        ans = get_audio()\n",
    "        if 'yes' in str(ans) or 'yeah' in str(ans):\n",
    "            search_web(input)\n",
    "\n",
    "    except Exception as e:\n",
    "        assistant_speaks(\"I don't understand, I can search the web for you, Do you want to continue?\")\n",
    "        ans = get_audio()\n",
    "        if 'yes' in str(ans) or 'yeah' in str(ans):\n",
    "            search_web(input)\n",
    "\n",
    "def search_web(input):\n",
    "    driver = webdriver.Chrome()\n",
    "    driver.implicitly_wait(1)\n",
    "    driver.maximize_window()\n",
    "\n",
    "    if 'youtube' in input.lower():\n",
    "        assistant_speaks(\"Opening in youtube\")\n",
    "        indx = input.lower().split().index('youtube')\n",
    "        query = input.split()[indx + 1:]\n",
    "        driver.get(\"https://www.youtube.com/results?search_query=\" + '+'.join(query))\n",
    "        return\n",
    "\n",
    "    elif 'wikipedia' in input.lower():\n",
    "        assistant_speaks(\"Opening Wikipedia\")\n",
    "        indx = input.lower().split().index('wikipedia')\n",
    "        query = input.split()[indx + 1:]\n",
    "        driver.get(\"https://en.wikipedia.org/wiki/\" + '_'.join(query))\n",
    "        return\n",
    "\n",
    "    else:\n",
    "        if 'google' in input:\n",
    "            indx = input.lower().split().index('google')\n",
    "            query = input.split()[indx + 1:]\n",
    "            driver.get(\"https://www.google.com/search?q=\" + '+'.join(query))\n",
    "        elif 'search' in input:\n",
    "            indx = input.lower().split().index('google')\n",
    "            query = input.split()[indx + 1:]\n",
    "            driver.get(\"https://www.google.com/search?q=\" + '+'.join(query))\n",
    "        else:\n",
    "            driver.get(\"https://www.google.com/search?q=\" + '+'.join(input.split()))\n",
    "\n",
    "        return\n"
   ]
  },
  {
   "cell_type": "code",
   "execution_count": 7,
   "metadata": {},
   "outputs": [
    {
     "name": "stdout",
     "output_type": "stream",
     "text": [
      "Speak...\n",
      "Stop.\n"
     ]
    },
    {
     "ename": "TypeError",
     "evalue": "can only concatenate str (not \"int\") to str",
     "output_type": "error",
     "traceback": [
      "\u001b[1;31m---------------------------------------------------------------------------\u001b[0m",
      "\u001b[1;31mTypeError\u001b[0m                                 Traceback (most recent call last)",
      "Cell \u001b[1;32mIn[7], line 6\u001b[0m\n\u001b[0;32m      4\u001b[0m name \u001b[38;5;241m=\u001b[39m \u001b[38;5;124m'\u001b[39m\u001b[38;5;124mHuman\u001b[39m\u001b[38;5;124m'\u001b[39m\n\u001b[0;32m      5\u001b[0m name \u001b[38;5;241m=\u001b[39m get_audio()\n\u001b[1;32m----> 6\u001b[0m assistant_speaks(\u001b[38;5;124;43m\"\u001b[39;49m\u001b[38;5;124;43mHello, \u001b[39;49m\u001b[38;5;124;43m\"\u001b[39;49m\u001b[43m \u001b[49m\u001b[38;5;241;43m+\u001b[39;49m\u001b[43m \u001b[49m\u001b[43mname\u001b[49m \u001b[38;5;241m+\u001b[39m \u001b[38;5;124m'\u001b[39m\u001b[38;5;124m.\u001b[39m\u001b[38;5;124m'\u001b[39m)\n\u001b[0;32m      8\u001b[0m \u001b[38;5;66;03m# Load intents from JSON file\u001b[39;00m\n\u001b[0;32m      9\u001b[0m intents \u001b[38;5;241m=\u001b[39m load_intents(\u001b[38;5;124m'\u001b[39m\u001b[38;5;124mintents.json\u001b[39m\u001b[38;5;124m'\u001b[39m)\n",
      "\u001b[1;31mTypeError\u001b[0m: can only concatenate str (not \"int\") to str"
     ]
    }
   ],
   "source": [
    "# Driver Code\n",
    "if __name__ == \"__main__\":\n",
    "    assistant_speaks(\"What's your name, Human?\")\n",
    "    name = 'Human'\n",
    "    name = get_audio()\n",
    "    assistant_speaks(\"Hello, \" + name + '.')\n",
    "\n",
    "    # Load intents from JSON file\n",
    "    intents = load_intents('intents.json')\n",
    "\n",
    "    while True:\n",
    "        assistant_speaks(\"What can I do for you?\")\n",
    "        text = get_audio().lower()\n",
    "\n",
    "        if text == 0:\n",
    "            continue\n",
    "\n",
    "        if \"exit\" in text or \"bye\" in text or \"sleep\" in text:\n",
    "            assistant_speaks(\"Ok, bye \" + name + '.')\n",
    "            break\n",
    "\n",
    "        process_text(text, intents)\n"
   ]
  }
 ],
 "metadata": {
  "kernelspec": {
   "display_name": "Python 3",
   "language": "python",
   "name": "python3"
  },
  "language_info": {
   "codemirror_mode": {
    "name": "ipython",
    "version": 3
   },
   "file_extension": ".py",
   "mimetype": "text/x-python",
   "name": "python",
   "nbconvert_exporter": "python",
   "pygments_lexer": "ipython3",
   "version": "3.9.10"
  }
 },
 "nbformat": 4,
 "nbformat_minor": 2
}
